{
  "metadata": {
    "kernelspec": {
      "name": "python",
      "display_name": "Python (Pyodide)",
      "language": "python"
    },
    "language_info": {
      "codemirror_mode": {
        "name": "python",
        "version": 3
      },
      "file_extension": ".py",
      "mimetype": "text/x-python",
      "name": "python",
      "nbconvert_exporter": "python",
      "pygments_lexer": "ipython3",
      "version": "3.8"
    }
  },
  "nbformat_minor": 5,
  "nbformat": 4,
  "cells": [
    {
      "cell_type": "markdown",
      "source": "# Data Science Tools and Ecosystem",
      "metadata": {},
      "id": "2b11db62-eef3-4fc9-9548-daf25e8d7366"
    },
    {
      "cell_type": "markdown",
      "source": "In this notebook, Data Science Tools and Ecosystem are summarized.\n",
      "metadata": {},
      "id": "9b97e51b-7fe2-454b-ae76-2f24466a805a"
    },
    {
      "cell_type": "markdown",
      "source": "**Objectives:**\n - List popular languages for Data Science\n - Introduction to R and RStudio\n - Familiarity with git and github\n    ",
      "metadata": {},
      "id": "54cc7aa3-c62d-43d5-a010-a56c7c71edd2"
    },
    {
      "cell_type": "markdown",
      "source": "Some of the popular languages that Data Scientists use are:\n\n    1. python\n    2. R\n    3. java",
      "metadata": {},
      "id": "63c6fedd-0da2-44c2-bc2a-ef0dfd69fc4d"
    },
    {
      "cell_type": "markdown",
      "source": "Some of the commonly used libraries used by Data Scientists include:\n\n    1. TensorFlow\n    2. NumPy\n    3. SciPy \n    4. Pandas\n    5. Matplotlib \n    6. Keras",
      "metadata": {},
      "id": "872b2fab-60bb-4557-9cb0-a58ca77fb648"
    },
    {
      "cell_type": "markdown",
      "source": "| Data Science Tools |\n| --- |\n| RStudio |\n| Apache Spark |\n| TensorFlow |\n",
      "metadata": {},
      "id": "1e3ded78-a28f-42b4-8705-d3f99dfd378d"
    },
    {
      "cell_type": "markdown",
      "source": "### Below are a few examples of evaluating arithmetic expressions in Python",
      "metadata": {},
      "id": "d93e9676-9c26-4e03-addd-0e18e20090e6"
    },
    {
      "cell_type": "code",
      "source": "#This a simple arithmetic expression to mutiply then add integers\n\n(3*4)+5",
      "metadata": {
        "trusted": true
      },
      "execution_count": 4,
      "outputs": [
        {
          "execution_count": 4,
          "output_type": "execute_result",
          "data": {
            "text/plain": "17"
          },
          "metadata": {}
        }
      ],
      "id": "065e11cb-5226-4ea7-9322-da759b1cf36d"
    },
    {
      "cell_type": "code",
      "source": "#This will convert 200 minutes to hours by diving by 60\n\n200/60",
      "metadata": {
        "trusted": true
      },
      "execution_count": 6,
      "outputs": [
        {
          "execution_count": 6,
          "output_type": "execute_result",
          "data": {
            "text/plain": "3.3333333333333335"
          },
          "metadata": {}
        }
      ],
      "id": "0065fd0b-3094-42c8-b24e-d34c4b5a2157"
    },
    {
      "cell_type": "markdown",
      "source": "## Author \nYevgen Bushuyev",
      "metadata": {},
      "id": "04acb932-53d2-4d79-a45c-a7b6c5f27c78"
    }
  ]
}